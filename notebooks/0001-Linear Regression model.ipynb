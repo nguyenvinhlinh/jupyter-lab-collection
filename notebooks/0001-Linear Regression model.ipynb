{
 "cells": [
  {
   "cell_type": "markdown",
   "id": "3d53b815-98ea-4792-9234-449af14b58dd",
   "metadata": {},
   "source": [
    "# 0001 - Linear Regression Model"
   ]
  },
  {
   "cell_type": "markdown",
   "id": "6b49cf67-8cff-495b-9a40-f2077e39ba5b",
   "metadata": {
    "tags": []
   },
   "source": [
    "# I. Abstract\n",
    "This notebook is all about create a linear regression model.\n",
    "- First part, setup a random equation y=a.x + b and detach it's outputs\n",
    "- Second part, setup model and trying to figure it own weight and bias."
   ]
  },
  {
   "cell_type": "markdown",
   "id": "3893eea0-818c-4e97-96a6-49768ea39efc",
   "metadata": {},
   "source": [
    "# II. Setup data for training."
   ]
  },
  {
   "cell_type": "code",
   "execution_count": 3,
   "id": "e5910a33-a307-4b9f-a6c0-ae6d19c13362",
   "metadata": {
    "tags": []
   },
   "outputs": [],
   "source": [
    "import torch\n",
    "import torch.nn as nn"
   ]
  },
  {
   "cell_type": "code",
   "execution_count": 4,
   "id": "f89cfb5a-3a24-4554-abba-b1b63ca81e91",
   "metadata": {
    "tags": []
   },
   "outputs": [],
   "source": [
    "class DefinedLinearRegressionModel(nn.Module):\n",
    "    def __init__(self):\n",
    "        super().__init__()\n",
    "        self.weight = torch.tensor(1.5, requires_grad=False)\n",
    "        self.bias = torch.tensor(2.75, requires_grad=False)\n",
    "        \n",
    "    def forward(self, input):\n",
    "        output = self.weight * input + self.bias\n",
    "        return output"
   ]
  },
  {
   "cell_type": "code",
   "execution_count": 5,
   "id": "2fbf2c68-ff0d-4271-af27-89632da6e13c",
   "metadata": {
    "tags": []
   },
   "outputs": [
    {
     "name": "stderr",
     "output_type": "stream",
     "text": [
      "/tmp/ipykernel_1507178/2736011444.py:1: UserWarning: Failed to initialize NumPy: No module named 'numpy' (Triggered internally at ../torch/csrc/utils/tensor_numpy.cpp:84.)\n",
      "  x_input_list = torch.linspace(start=0, end=100, steps= 300)\n"
     ]
    }
   ],
   "source": [
    "x_input_list = torch.linspace(start=0, end=100, steps= 300)"
   ]
  },
  {
   "cell_type": "code",
   "execution_count": null,
   "id": "665e3050-150c-415c-84f0-676d9df6d38d",
   "metadata": {},
   "outputs": [],
   "source": []
  },
  {
   "cell_type": "code",
   "execution_count": null,
   "id": "cd6d8bd1-9d96-4a7b-b089-15e0c1cb0066",
   "metadata": {},
   "outputs": [],
   "source": []
  },
  {
   "cell_type": "code",
   "execution_count": null,
   "id": "2eb92e87-da4e-4366-a2d7-8060059bd1eb",
   "metadata": {},
   "outputs": [],
   "source": []
  },
  {
   "cell_type": "markdown",
   "id": "bb365011-4e91-48f1-ae15-fec389cd63f1",
   "metadata": {},
   "source": [
    "# III. Setup model for training"
   ]
  },
  {
   "cell_type": "code",
   "execution_count": null,
   "id": "494fc7dd-33d3-4afc-9b4e-632e7b4fe020",
   "metadata": {},
   "outputs": [],
   "source": []
  },
  {
   "cell_type": "code",
   "execution_count": null,
   "id": "e074eb06-e91b-4f34-a462-9ebe30e224c8",
   "metadata": {},
   "outputs": [],
   "source": []
  },
  {
   "cell_type": "code",
   "execution_count": null,
   "id": "c3edc06f-e361-40d1-8715-7113bf521b3f",
   "metadata": {},
   "outputs": [],
   "source": []
  },
  {
   "cell_type": "code",
   "execution_count": null,
   "id": "b149bbe9-0f79-41a5-9820-421e1cf07280",
   "metadata": {},
   "outputs": [],
   "source": []
  },
  {
   "cell_type": "code",
   "execution_count": null,
   "id": "3cc63523-f0c4-4494-9479-e8d7d3b99af2",
   "metadata": {},
   "outputs": [],
   "source": []
  },
  {
   "cell_type": "code",
   "execution_count": null,
   "id": "faf1ca41-1f6e-4ffd-a778-6fcc06110694",
   "metadata": {},
   "outputs": [],
   "source": []
  }
 ],
 "metadata": {
  "kernelspec": {
   "display_name": "Python 3 (ipykernel)",
   "language": "python",
   "name": "python3"
  },
  "language_info": {
   "codemirror_mode": {
    "name": "ipython",
    "version": 3
   },
   "file_extension": ".py",
   "mimetype": "text/x-python",
   "name": "python",
   "nbconvert_exporter": "python",
   "pygments_lexer": "ipython3",
   "version": "3.11.3"
  }
 },
 "nbformat": 4,
 "nbformat_minor": 5
}
